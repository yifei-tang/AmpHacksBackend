{
 "cells": [
  {
   "cell_type": "code",
   "execution_count": 74,
   "metadata": {},
   "outputs": [],
   "source": [
    "import numpy as np\n",
    "import pandas as pd\n",
    "from random import *"
   ]
  },
  {
   "cell_type": "code",
   "execution_count": 75,
   "metadata": {},
   "outputs": [],
   "source": [
    "datasize = 50000 \n",
    "income = pd.DataFrame(index = range(datasize), columns = ['University', 'Program', 'Criminal Record', 'Scholarship', 'Income'])"
   ]
  },
  {
   "cell_type": "code",
   "execution_count": 76,
   "metadata": {},
   "outputs": [],
   "source": [
    "# University will have 6 different values for now; \n",
    "    # 0 = University of Waterloo\n",
    "    # 1 = Univeristy of Toronto\n",
    "    # 2 = Western University\n",
    "    # 3 = University of Guelph\n",
    "    # 4 = Ryerson University\n",
    "    # 5 = Wilfrid Laurier University\n",
    "# Program will have 5 different values:\n",
    "    # 0 = Engineering\n",
    "    # 1 = Arts\n",
    "    # 2 = Sciences\n",
    "    # 3 = Business\n",
    "    # 4 = Maths\n",
    "    \n",
    "# Criminal Record can only be 1 or 0\n",
    "# Scholarship will be a category, but will NOT be used for now; this can be implemented if this goes into prod :)\n",
    "\n",
    "for i in range(0, len(income)):\n",
    "    income['University'][i] = np.random.randint(0,6)\n",
    "    income['Program'][i] = np.random.randint(0,5)\n",
    "    income['Criminal Record'][i] = sample([0,1], 1)[0]\n",
    "    income['Scholarship'][i] = np.random.randint(0,4)"
   ]
  },
  {
   "cell_type": "code",
   "execution_count": 77,
   "metadata": {},
   "outputs": [],
   "source": [
    "# All specific programs, for the sake of this, will have the same distribution of income, regardless of university\n",
    "# Numbers are based on researched data to try and replicate real life\n",
    "\n",
    "muEng, sigmaEng = 70000, 2000\n",
    "muArts, sigmaArts = 50000, 2000\n",
    "muSci, sigmaSci = 60000, 2000\n",
    "muBus, sigmaBus = 55000, 2000\n",
    "muMath, sigmaMath = 58000, 2000\n",
    "\n",
    "for i in range(0, len(income)):\n",
    "    if (income['Program'][i] == 0):   \n",
    "        income['Income'][i] = np.random.normal(muEng, sigmaEng, 1)[0]\n",
    "    elif(income['Program'][i] == 1):\n",
    "        income['Income'][i] = np.random.normal(muArts, sigmaArts, 1)[0]   \n",
    "    elif(income['Program'][i] == 2):\n",
    "        income['Income'][i] = np.random.normal(muSci, sigmaSci, 1)[0]\n",
    "    elif(income['Program'][i] == 4):\n",
    "        income['Income'][i] = np.random.normal(muBus, sigmaBus, 1)[0]\n",
    "    else:\n",
    "        income['Income'][i] = np.random.normal(muMath, sigmaMath, 1)[0]\n",
    "        \n",
    "# Changing the exact values to categories instead:\n",
    "# low = less than $50000/year\n",
    "# average = $50000 to $70000/year\n",
    "# high = greater than $70000/year\n",
    "for i in range(0, len(income)):\n",
    "    if income['Income'][i] <= 50000:\n",
    "        income['Income'][i] = 'low'\n",
    "    elif income['Income'][i] >= 50000 and income['Income'][i] <= 65000:\n",
    "        income['Income'][i] = 'mid'\n",
    "    else:\n",
    "        income['Income'][i] = 'high' \n",
    "        \n",
    "# We need the midpoint values so we can plug the value of starting income into our algorithm\n",
    "# if income = low, use $45000. If income = mid, use $60000. If income = high, use $75000."
   ]
  },
  {
   "cell_type": "code",
   "execution_count": 78,
   "metadata": {},
   "outputs": [],
   "source": [
    "income.to_csv('Income Data File.csv', header = True)"
   ]
  },
  {
   "cell_type": "code",
   "execution_count": null,
   "metadata": {},
   "outputs": [],
   "source": []
  }
 ],
 "metadata": {
  "kernelspec": {
   "display_name": "Python 3",
   "language": "python",
   "name": "python3"
  },
  "language_info": {
   "codemirror_mode": {
    "name": "ipython",
    "version": 3
   },
   "file_extension": ".py",
   "mimetype": "text/x-python",
   "name": "python",
   "nbconvert_exporter": "python",
   "pygments_lexer": "ipython3",
   "version": "3.7.3"
  }
 },
 "nbformat": 4,
 "nbformat_minor": 2
}
